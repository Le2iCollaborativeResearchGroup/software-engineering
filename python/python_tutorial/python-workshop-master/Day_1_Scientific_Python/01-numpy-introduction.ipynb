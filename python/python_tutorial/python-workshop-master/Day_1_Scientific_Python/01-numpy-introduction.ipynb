{
 "cells": [
  {
   "cell_type": "markdown",
   "metadata": {},
   "source": [
    "# Advanced NumPy tutorial"
   ]
  },
  {
   "cell_type": "markdown",
   "metadata": {},
   "source": [
    "PROTO204, July 3rd, 2017\n",
    "\n",
    "Bartosz Teleńczuk and OSS comunity\n",
    "\n",
    "*e-mail*: mail@telenczuk.pl <br/>\n",
    "*website*: http://neuroscience.telenczuk.pl"
   ]
  },
  {
   "cell_type": "markdown",
   "metadata": {},
   "source": [
    "## Requirements\n",
    "\n",
    "* Python 3.x\n",
    "* Jupyter Notebook\n",
    "* NumPy >= 1.10\n",
    "* matplotlib\n",
    "\n",
    "If you use [anaconda](https://www.continuum.io/downloads) you can install them with:\n",
    "\n",
    "```\n",
    "conda create -n advanced_numpy python=3 notebook numpy matplotlib\n",
    "source activate advanced_numpy\n",
    "```"
   ]
  },
  {
   "cell_type": "markdown",
   "metadata": {},
   "source": [
    "## Setup"
   ]
  },
  {
   "cell_type": "markdown",
   "metadata": {},
   "source": [
    "\n",
    "1. Download the archive with materials [python-workshop-master.zip](https://github.com/paris-saclay-cds/python-workshop/archive/master.zip) and save it to your Desktop. \n",
    "\n",
    "    *Hint*: Alternatively, if you know git, you can also clone the repository.\n",
    "\n",
    "3. Unzip the file.\n",
    "\n",
    "4. Open a terminal and change to the created folder:\n",
    "\n",
    "    ```\n",
    "$ cd\n",
    "$ cd Desktop/python-workshop-master/Day_1_Scientific_Python\n",
    "    ```\n",
    "\n",
    "5. Run Jupyter notebook.\n",
    "\n",
    "    ```\n",
    "    $ jupyter notebook\n",
    "    ```"
   ]
  },
  {
   "cell_type": "markdown",
   "metadata": {},
   "source": [
    "## Other materials\n",
    "\n",
    "* Gaël Varoquaux, Emmanuelle Gouillart and Olav Vahtras (editors), [SciPy Lectures](http://scipy-lectures.org)\n",
    "* Software Carpentry community, [Programming with Python](http://swcarpentry.github.io/python-novice-inflammation/)\n",
    "* NumPy community, [NumPy Docs](http://docs.scipy.org/doc/numpy/)\n",
    "* Nicolas Rougier, [100 NumPy exercises](https://github.com/rougier/numpy-100)\n",
    "* Nicolas Rougier, [From Python to Numpy](http://www.labri.fr/perso/nrougier/from-python-to-numpy/index.html)\n",
    "* Bartosz Teleńczuk, [Advanced NumPy lesson](https://github.com/paris-swc/advanced-numpy-lesson)\n"
   ]
  },
  {
   "cell_type": "code",
   "execution_count": null,
   "metadata": {
    "collapsed": true
   },
   "outputs": [],
   "source": []
  },
  {
   "cell_type": "markdown",
   "metadata": {
    "collapsed": true
   },
   "source": [
    "# What is NumPy?"
   ]
  },
  {
   "cell_type": "markdown",
   "metadata": {},
   "source": [
    "* memory-efficient container for multi-dimensional homogeneous (mainly numerical) data (NumPy array)\n",
    "\n",
    "* fast vectorised operations on arrays\n",
    "\n",
    "* library general purpose functions: data reading/writing, linear algebra, FFT etc. (for more wait for SciPy lecture)\n",
    "\n",
    "* main applications: signal processing, image processing, analysis of raw data from measurment instruments\n"
   ]
  },
  {
   "cell_type": "markdown",
   "metadata": {},
   "source": [
    "## Importing NumPy"
   ]
  },
  {
   "cell_type": "code",
   "execution_count": 1,
   "metadata": {
    "collapsed": true
   },
   "outputs": [],
   "source": [
    "import numpy as np"
   ]
  },
  {
   "cell_type": "code",
   "execution_count": 3,
   "metadata": {},
   "outputs": [
    {
     "name": "stdout",
     "output_type": "stream",
     "text": [
      "[1 2 3 4]\n"
     ]
    }
   ],
   "source": [
    "import numpy as np\n",
    "arr = np.array([1, 2, 3, 4])\n",
    "print(arr)"
   ]
  },
  {
   "cell_type": "markdown",
   "metadata": {},
   "source": [
    "### Exercise\n",
    "\n",
    "Create the following array and store in a new variable called `a`:\n",
    "\n",
    "```\n",
    "[0, 5, 8, 10]\n",
    "```"
   ]
  },
  {
   "cell_type": "code",
   "execution_count": 5,
   "metadata": {},
   "outputs": [
    {
     "name": "stdout",
     "output_type": "stream",
     "text": [
      "[ 0  5  8 10]\n"
     ]
    }
   ],
   "source": [
    "new_array = np.array([0, 5, 8, 10])\n",
    "print(new_array)"
   ]
  },
  {
   "cell_type": "markdown",
   "metadata": {},
   "source": [
    "## Loading data\n",
    "\n",
    "We are studying inflammation in patients who have been given a new treatment for arthritis, and need to analyze the first dozen data sets of their daily inflammation. The data sets are stored in comma-separated values (CSV) format: each row holds information for a single patient, and the columns represent successive days. The first few rows of our first file look like this:"
   ]
  },
  {
   "cell_type": "code",
   "execution_count": 130,
   "metadata": {
    "collapsed": true
   },
   "outputs": [],
   "source": [
    "#%load data/inflammation-01.csv"
   ]
  },
  {
   "cell_type": "code",
   "execution_count": null,
   "metadata": {
    "collapsed": true
   },
   "outputs": [],
   "source": []
  },
  {
   "cell_type": "code",
   "execution_count": 79,
   "metadata": {
    "collapsed": true
   },
   "outputs": [],
   "source": [
    "data = np.loadtxt(fname='data/inflammation-01.csv', delimiter=',')"
   ]
  },
  {
   "cell_type": "markdown",
   "metadata": {},
   "source": [
    "## Explore array"
   ]
  },
  {
   "cell_type": "code",
   "execution_count": 10,
   "metadata": {
    "scrolled": true
   },
   "outputs": [
    {
     "name": "stdout",
     "output_type": "stream",
     "text": [
      "[[ 0.  0.  1. ...,  3.  0.  0.]\n",
      " [ 0.  1.  2. ...,  1.  0.  1.]\n",
      " [ 0.  1.  1. ...,  2.  1.  1.]\n",
      " ..., \n",
      " [ 0.  1.  1. ...,  1.  1.  1.]\n",
      " [ 0.  0.  0. ...,  0.  2.  0.]\n",
      " [ 0.  0.  1. ...,  1.  1.  0.]]\n"
     ]
    }
   ],
   "source": [
    "print(data)"
   ]
  },
  {
   "cell_type": "code",
   "execution_count": 11,
   "metadata": {},
   "outputs": [
    {
     "name": "stdout",
     "output_type": "stream",
     "text": [
      "float64\n",
      "(60, 40)\n"
     ]
    }
   ],
   "source": [
    "print(data.dtype)\n",
    "print(data.shape)"
   ]
  },
  {
   "cell_type": "markdown",
   "metadata": {},
   "source": [
    "We can plot the data using `matplotlib` library:"
   ]
  },
  {
   "cell_type": "code",
   "execution_count": 12,
   "metadata": {},
   "outputs": [
    {
     "data": {
      "image/png": "[encoded data removed]",
      "text/plain": [
       "<matplotlib.figure.Figure at 0x7ff87c062cf8>"
      ]
     },
     "metadata": {},
     "output_type": "display_data"
    }
   ],
   "source": [
    "import matplotlib.pyplot as plt\n",
    "plt.matshow(data)\n",
    "plt.show()"
   ]
  },
  {
   "cell_type": "markdown",
   "metadata": {},
   "source": [
    "Note that the figure appears only after you call `plt.show()` function. In Jupyter notebook you can show figure directly in the notebook using this command:"
   ]
  },
  {
   "cell_type": "code",
   "execution_count": 13,
   "metadata": {},
   "outputs": [
    {
     "data": {
      "text/plain": [
       "<matplotlib.image.AxesImage at 0x7ff861950a58>"
      ]
     },
     "execution_count": 13,
     "metadata": {},
     "output_type": "execute_result"
    },
    {
     "data": {
      "image/png": "[encoded data removed]",
      "text/plain": [
       "<matplotlib.figure.Figure at 0x7ff861dc0128>"
      ]
     },
     "metadata": {},
     "output_type": "display_data"
    }
   ],
   "source": [
    "%matplotlib inline\n",
    "plt.matshow(data)"
   ]
  },
  {
   "cell_type": "markdown",
   "metadata": {},
   "source": [
    "## Indexing"
   ]
  },
  {
   "cell_type": "markdown",
   "metadata": {},
   "source": [
    "Note that the NumPy arrays are zero-indexed:"
   ]
  },
  {
   "cell_type": "code",
   "execution_count": 14,
   "metadata": {},
   "outputs": [
    {
     "data": {
      "text/plain": [
       "0.0"
      ]
     },
     "execution_count": 14,
     "metadata": {},
     "output_type": "execute_result"
    }
   ],
   "source": [
    "data[0, 0]"
   ]
  },
  {
   "cell_type": "markdown",
   "metadata": {},
   "source": [
    "It means that that the third element in the first row has an index of [0, 2]:"
   ]
  },
  {
   "cell_type": "code",
   "execution_count": 15,
   "metadata": {},
   "outputs": [
    {
     "data": {
      "text/plain": [
       "1.0"
      ]
     },
     "execution_count": 15,
     "metadata": {},
     "output_type": "execute_result"
    }
   ],
   "source": [
    "data[0, 2]"
   ]
  },
  {
   "cell_type": "markdown",
   "metadata": {},
   "source": [
    "We can also assign the element with a new value:"
   ]
  },
  {
   "cell_type": "code",
   "execution_count": 16,
   "metadata": {},
   "outputs": [
    {
     "name": "stdout",
     "output_type": "stream",
     "text": [
      "100.0\n"
     ]
    }
   ],
   "source": [
    "data[0, 2] = 100.\n",
    "print(data[0, 2])"
   ]
  },
  {
   "cell_type": "markdown",
   "metadata": {},
   "source": [
    "NumPy (and Python in general) checks the bounds of the array:"
   ]
  },
  {
   "cell_type": "code",
   "execution_count": 17,
   "metadata": {},
   "outputs": [
    {
     "name": "stdout",
     "output_type": "stream",
     "text": [
      "(60, 40)\n"
     ]
    },
    {
     "ename": "IndexError",
     "evalue": "index 60 is out of bounds for axis 0 with size 60",
     "output_type": "error",
     "traceback": [
      "\u001b[0;31m---------------------------------------------------------------------------\u001b[0m",
      "\u001b[0;31mIndexError\u001b[0m                                Traceback (most recent call last)",
      "\u001b[0;32m<ipython-input-17-dce4bf7ae2de>\u001b[0m in \u001b[0;36m<module>\u001b[0;34m()\u001b[0m\n\u001b[1;32m      1\u001b[0m \u001b[0mprint\u001b[0m\u001b[0;34m(\u001b[0m\u001b[0mdata\u001b[0m\u001b[0;34m.\u001b[0m\u001b[0mshape\u001b[0m\u001b[0;34m)\u001b[0m\u001b[0;34m\u001b[0m\u001b[0m\n\u001b[0;32m----> 2\u001b[0;31m \u001b[0mdata\u001b[0m\u001b[0;34m[\u001b[0m\u001b[0;36m60\u001b[0m\u001b[0;34m,\u001b[0m \u001b[0;36m0\u001b[0m\u001b[0;34m]\u001b[0m\u001b[0;34m\u001b[0m\u001b[0m\n\u001b[0m",
      "\u001b[0;31mIndexError\u001b[0m: index 60 is out of bounds for axis 0 with size 60"
     ]
    }
   ],
   "source": [
    "print(data.shape)\n",
    "data[60, 0]"
   ]
  },
  {
   "cell_type": "markdown",
   "metadata": {},
   "source": [
    "Finally, we can ask for several elements at once:"
   ]
  },
  {
   "cell_type": "code",
   "execution_count": 19,
   "metadata": {},
   "outputs": [
    {
     "data": {
      "text/plain": [
       "array([[   0.,    0.,  100., ...,    3.,    0.,    0.],\n",
       "       [   0.,    1.,    2., ...,    1.,    0.,    1.],\n",
       "       [   0.,    1.,    1., ...,    2.,    1.,    1.],\n",
       "       ..., \n",
       "       [   0.,    1.,    1., ...,    1.,    1.,    1.],\n",
       "       [   0.,    0.,    0., ...,    0.,    2.,    0.],\n",
       "       [   0.,    0.,    1., ...,    1.,    1.,    0.]])"
      ]
     },
     "execution_count": 19,
     "metadata": {},
     "output_type": "execute_result"
    }
   ],
   "source": [
    "data"
   ]
  },
  {
   "cell_type": "code",
   "execution_count": 18,
   "metadata": {},
   "outputs": [
    {
     "data": {
      "text/plain": [
       "array([ 0.,  3.])"
      ]
     },
     "execution_count": 18,
     "metadata": {},
     "output_type": "execute_result"
    }
   ],
   "source": [
    "data[0, [0, 10]]"
   ]
  },
  {
   "cell_type": "markdown",
   "metadata": {},
   "source": [
    "## Slices"
   ]
  },
  {
   "cell_type": "markdown",
   "metadata": {},
   "source": [
    "You can select ranges of elements using slices. To select first two columns from the first row, you can use:"
   ]
  },
  {
   "cell_type": "code",
   "execution_count": 22,
   "metadata": {},
   "outputs": [
    {
     "data": {
      "text/plain": [
       "array([ 1.,  2.,  4.,  7.,  8.,  3.])"
      ]
     },
     "execution_count": 22,
     "metadata": {},
     "output_type": "execute_result"
    }
   ],
   "source": [
    "data[0, 4:10]"
   ]
  },
  {
   "cell_type": "markdown",
   "metadata": {},
   "source": [
    "Note that the returned array does not include third column (with index 2)."
   ]
  },
  {
   "cell_type": "markdown",
   "metadata": {},
   "source": [
    "You can skip the first or last index (which means, take the values from the beginning or to the end):"
   ]
  },
  {
   "cell_type": "code",
   "execution_count": 31,
   "metadata": {},
   "outputs": [
    {
     "data": {
      "text/plain": [
       "array([ 100.,    1.,    4.,    8.,    3.,   10.,    7.,    7.,   12.])"
      ]
     },
     "execution_count": 31,
     "metadata": {},
     "output_type": "execute_result"
    }
   ],
   "source": [
    "data[0, 2:20:2]"
   ]
  },
  {
   "cell_type": "markdown",
   "metadata": {},
   "source": [
    "If you omit both indices in the slice leaving out only the colon (`:`), you will get all columns of this row:"
   ]
  },
  {
   "cell_type": "code",
   "execution_count": null,
   "metadata": {
    "collapsed": true
   },
   "outputs": [],
   "source": [
    "data[0, :]"
   ]
  },
  {
   "cell_type": "markdown",
   "metadata": {},
   "source": [
    "We now can plot the values in this row as a line plot:"
   ]
  },
  {
   "cell_type": "code",
   "execution_count": 129,
   "metadata": {
    "scrolled": true
   },
   "outputs": [
    {
     "data": {
      "text/plain": [
       "[<matplotlib.lines.Line2D at 0x7ff857e682e8>]"
      ]
     },
     "execution_count": 129,
     "metadata": {},
     "output_type": "execute_result"
    },
    {
     "data": {
      "image/png": "[encoded data removed]",
      "text/plain": [
       "<matplotlib.figure.Figure at 0x7ff858236128>"
      ]
     },
     "metadata": {},
     "output_type": "display_data"
    }
   ],
   "source": [
    "plt.plot(data[0, :])\n",
    "plt.plot(data[8, :], color = (1, 0, 1))\n",
    "plt.plot(data[20, :], 'r--')\n",
    "\n",
    "#plt.hist(data)"
   ]
  },
  {
   "cell_type": "markdown",
   "metadata": {},
   "source": [
    "## Filtering data"
   ]
  },
  {
   "cell_type": "markdown",
   "metadata": {},
   "source": [
    "It's also possible to select elements (filter) based on a condition. For example, to select all measurments above 10 in the first patient we can use:"
   ]
  },
  {
   "cell_type": "code",
   "execution_count": null,
   "metadata": {
    "collapsed": true
   },
   "outputs": [],
   "source": [
    "patient_data = data[0, :]\n",
    "patient_data[patient_data>10]"
   ]
  },
  {
   "cell_type": "markdown",
   "metadata": {},
   "source": [
    "We can also substitute the measurement with a new value:\n"
   ]
  },
  {
   "cell_type": "code",
   "execution_count": null,
   "metadata": {
    "collapsed": true
   },
   "outputs": [],
   "source": [
    "patient_data[patient_data>10] = 10\n",
    "print(patient_data)"
   ]
  },
  {
   "cell_type": "markdown",
   "metadata": {},
   "source": [
    "<div class=\"alert alert-warning\">\n",
    "**Warning**\n",
    "\n",
    "Please note that changing `patient_data` in the previous example, will also modify the original `data` array from which the row was extracted. The reason is that taking a slice does not copy a data, only gives a new view on it. \n",
    "</div>"
   ]
  },
  {
   "cell_type": "markdown",
   "metadata": {},
   "source": [
    "### Quiz \n",
    "\n",
    "Imagine the following array `a`:\n",
    "\n",
    "```\n",
    ">> print(a)\n",
    "[0, 5, 8, 10]\n",
    "```\n",
    "\n",
    "Which of the following commands will give this output:\n",
    "\n",
    "```\n",
    "[5, 8]\n",
    "```\n",
    "\n",
    "a) `print(a[1, 2])`\n",
    "\n",
    "b) `print(a[2:3])`\n",
    "\n",
    "c) `print(a[1:3])`\n",
    "\n",
    "d) `print(a[[1, 2]])`\n",
    "\n",
    "e) `print(a[a<10])`\n",
    "\n",
    "You can test your guess by creating the `a` array:\n",
    "\n",
    "```\n",
    "a = np.array([0, 5, 8, 10])\n",
    "```"
   ]
  },
  {
   "cell_type": "markdown",
   "metadata": {},
   "source": [
    "## Operations"
   ]
  },
  {
   "cell_type": "code",
   "execution_count": 70,
   "metadata": {},
   "outputs": [
    {
     "name": "stdout",
     "output_type": "stream",
     "text": [
      "[5 8]\n",
      "[5 8]\n",
      "[5 8]\n"
     ]
    }
   ],
   "source": [
    "a = np.array([0, 5, 8, 10])\n",
    "print(a[[1,4]])\n",
    "print(a[1:3])\n",
    "print(a[(a<10) & (a>0)])"
   ]
  },
  {
   "cell_type": "markdown",
   "metadata": {},
   "source": [
    "By default additions/subtractions/etc. are elementwise:"
   ]
  },
  {
   "cell_type": "code",
   "execution_count": 52,
   "metadata": {},
   "outputs": [
    {
     "name": "stdout",
     "output_type": "stream",
     "text": [
      "[[   0.    0.  200. ...,    6.    0.    0.]\n",
      " [   0.    2.    4. ...,    2.    0.    2.]\n",
      " [   0.    2.    2. ...,    4.    2.    2.]\n",
      " ..., \n",
      " [   0.    2.    2. ...,    2.    2.    2.]\n",
      " [   0.    0.    0. ...,    0.    4.    0.]\n",
      " [   0.    0.    2. ...,    2.    2.    0.]]\n"
     ]
    }
   ],
   "source": [
    "doubledata = data + data\n",
    "print(doubledata)"
   ]
  },
  {
   "cell_type": "markdown",
   "metadata": {},
   "source": [
    "Operations by scalar:"
   ]
  },
  {
   "cell_type": "code",
   "execution_count": 53,
   "metadata": {},
   "outputs": [
    {
     "name": "stdout",
     "output_type": "stream",
     "text": [
      "[[   0.    0.  300. ...,    9.    0.    0.]\n",
      " [   0.    3.    6. ...,    3.    0.    3.]\n",
      " [   0.    3.    3. ...,    6.    3.    3.]\n",
      " ..., \n",
      " [   0.    3.    3. ...,    3.    3.    3.]\n",
      " [   0.    0.    0. ...,    0.    6.    0.]\n",
      " [   0.    0.    3. ...,    3.    3.    0.]]\n"
     ]
    }
   ],
   "source": [
    "tripledata = data * 3\n",
    "print(tripledata)\n"
   ]
  },
  {
   "cell_type": "markdown",
   "metadata": {},
   "source": [
    "Some functions can be applied elementwise:"
   ]
  },
  {
   "cell_type": "code",
   "execution_count": 54,
   "metadata": {},
   "outputs": [
    {
     "name": "stdout",
     "output_type": "stream",
     "text": [
      "[[  1.00000000e+00   1.00000000e+00   2.68811714e+43 ...,   2.00855369e+01\n",
      "    1.00000000e+00   1.00000000e+00]\n",
      " [  1.00000000e+00   2.71828183e+00   7.38905610e+00 ...,   2.71828183e+00\n",
      "    1.00000000e+00   2.71828183e+00]\n",
      " [  1.00000000e+00   2.71828183e+00   2.71828183e+00 ...,   7.38905610e+00\n",
      "    2.71828183e+00   2.71828183e+00]\n",
      " ..., \n",
      " [  1.00000000e+00   2.71828183e+00   2.71828183e+00 ...,   2.71828183e+00\n",
      "    2.71828183e+00   2.71828183e+00]\n",
      " [  1.00000000e+00   1.00000000e+00   1.00000000e+00 ...,   1.00000000e+00\n",
      "    7.38905610e+00   1.00000000e+00]\n",
      " [  1.00000000e+00   1.00000000e+00   2.71828183e+00 ...,   2.71828183e+00\n",
      "    2.71828183e+00   1.00000000e+00]]\n"
     ]
    }
   ],
   "source": [
    "expdata = np.exp(data)\n",
    "print(expdata)"
   ]
  },
  {
   "cell_type": "markdown",
   "metadata": {},
   "source": [
    "<div class=\"alert alert-warning\">\n",
    "**Warning**\n",
    "\n",
    "Standard Python installation also includes the `math` library, but it does not play nicely with NumPy array, so avoid using it with NumPy arrays.\n",
    "</div>"
   ]
  },
  {
   "cell_type": "markdown",
   "metadata": {},
   "source": [
    "Some functions (such as mean, max, etc.) aggregate the data return arrays of less dimensions or scalars:"
   ]
  },
  {
   "cell_type": "code",
   "execution_count": 55,
   "metadata": {},
   "outputs": [
    {
     "name": "stdout",
     "output_type": "stream",
     "text": [
      "6.19\n"
     ]
    }
   ],
   "source": [
    "meandata = np.mean(data)\n",
    "print(meandata)"
   ]
  },
  {
   "cell_type": "markdown",
   "metadata": {},
   "source": [
    "By default the NumPy `mean` function It's also possbile to average over a single axis:"
   ]
  },
  {
   "cell_type": "code",
   "execution_count": 67,
   "metadata": {},
   "outputs": [
    {
     "data": {
      "text/plain": [
       "(40,)"
      ]
     },
     "execution_count": 67,
     "metadata": {},
     "output_type": "execute_result"
    }
   ],
   "source": [
    "mu0 = np.mean(data, 0)\n",
    "mu1 = np.mean(data, 1)\n",
    "mu0.shape\n",
    "mu1.shape"
   ]
  },
  {
   "cell_type": "markdown",
   "metadata": {},
   "source": [
    "### Exercise\n",
    "\n",
    "Average the inflammation data over the first ten patients (rows) and plot them across time (columns). Then repeat it for the next ten patients and so on. Try putting all averages on a single plot."
   ]
  },
  {
   "cell_type": "code",
   "execution_count": 100,
   "metadata": {},
   "outputs": [
    {
     "data": {
      "image/png": "[encoded data removed]",
      "text/plain": [
       "<matplotlib.figure.Figure at 0x7ff8580e7b70>"
      ]
     },
     "metadata": {},
     "output_type": "display_data"
    }
   ],
   "source": [
    "#data = np.loadtxt(fname='data/inflammation-01.csv', delimiter=',')\n",
    "from IPython.display import clear_output\n",
    "\n",
    "print(data.shape[0]/10)\n",
    "for i in range(0, int(data.shape[0]/10)):\n",
    "    mu0to10 = np.mean(data[0:10*i, :], 0)\n",
    "    clear_output()\n",
    "    #print(mu0to10.shape)\n",
    "    plt.plot(mu0to10)"
   ]
  },
  {
   "cell_type": "markdown",
   "metadata": {
    "collapsed": true
   },
   "source": [
    "## Broadcasting"
   ]
  },
  {
   "cell_type": "markdown",
   "metadata": {},
   "source": [
    "It’s possible to do operations on arrays of different sizes. In some cases NumPy can transform these arrays automatically so that they behave like same-sized arrays. This conversion is called **broadcasting**. For example we can "
   ]
  },
  {
   "cell_type": "code",
   "execution_count": 119,
   "metadata": {},
   "outputs": [
    {
     "name": "stdout",
     "output_type": "stream",
     "text": [
      "5.95\n",
      "(40,)\n"
     ]
    }
   ],
   "source": [
    "data - np.mean(data, 0)\n",
    "meandata = np.mean(data, axis = 0)#[:, np.newaxis]\n",
    "print(meandata[10])\n",
    "print(meandata.shape)\n",
    "#print(meandata)"
   ]
  },
  {
   "cell_type": "markdown",
   "metadata": {},
   "source": [
    "\n",
    "### Exercise\n",
    "\n",
    "Given the following array:\n",
    "\n",
    "``a = np.array([[2, 3, 1], [4, 1, 1]])``\n",
    "\n",
    "For each column of a subtract mean across rows. Next, from each row subtract its mean across columns.\n",
    "\n",
    "**Tip**: You can use `a.T` to transpose the array."
   ]
  },
  {
   "cell_type": "code",
   "execution_count": 128,
   "metadata": {},
   "outputs": [
    {
     "name": "stdout",
     "output_type": "stream",
     "text": [
      "2\n",
      "3\n",
      "[[-1.  1.  0.]\n",
      " [ 1. -1.  0.]]\n",
      "[[ 0.  1. -1.]\n",
      " [ 2. -1. -1.]]\n"
     ]
    },
    {
     "data": {
      "text/plain": [
       "array([[ 0.,  1., -1.],\n",
       "       [ 2., -1., -1.]])"
      ]
     },
     "execution_count": 128,
     "metadata": {},
     "output_type": "execute_result"
    }
   ],
   "source": [
    "a = np.array([[2, 3, 1], [4, 1, 1]])\n",
    "print(a.shape[0])\n",
    "print(a.shape[1])\n",
    "b = a - np.mean(a, axis = 0)\n",
    "print(b)\n",
    "b = (a.T - np.mean(a, axis = 1)).T\n",
    "print(b)\n",
    "mean_col = np.mean(a, axis = 1)\n",
    "a - mean_col[:, np.newaxis]\n",
    "#print(a)"
   ]
  },
  {
   "cell_type": "code",
   "execution_count": null,
   "metadata": {
    "collapsed": true
   },
   "outputs": [],
   "source": []
  }
 ],
 "metadata": {
  "kernelspec": {
   "display_name": "Python 3",
   "language": "python",
   "name": "python3"
  },
  "language_info": {
   "codemirror_mode": {
    "name": "ipython",
    "version": 3
   },
   "file_extension": ".py",
   "mimetype": "text/x-python",
   "name": "python",
   "nbconvert_exporter": "python",
   "pygments_lexer": "ipython3",
   "version": "3.6.1"
  }
 },
 "nbformat": 4,
 "nbformat_minor": 2
}
